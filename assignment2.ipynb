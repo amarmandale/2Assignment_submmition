{
 "cells": [
  {
   "cell_type": "markdown",
   "id": "cb32e06c-724c-4511-9194-6c56e994c5b2",
   "metadata": {},
   "source": [
    "Q1. How do you comment code in Python? What are the different types of comments?"
   ]
  },
  {
   "cell_type": "code",
   "execution_count": 14,
   "id": "c06a16e0-abcb-4ab9-8668-a25eb2326b73",
   "metadata": {},
   "outputs": [
    {
     "ename": "IndentationError",
     "evalue": "unexpected indent (4257994919.py, line 4)",
     "output_type": "error",
     "traceback": [
      "\u001b[0;36m  Cell \u001b[0;32mIn[14], line 4\u001b[0;36m\u001b[0m\n\u001b[0;31m    --------\u001b[0m\n\u001b[0m    ^\u001b[0m\n\u001b[0;31mIndentationError\u001b[0m\u001b[0;31m:\u001b[0m unexpected indent\n"
     ]
    }
   ],
   "source": [
    "# Ans :- There are two types of comment in python  = \n",
    "#      sinle line comment  -   # or ##\n",
    "#  multiple line comment  - \"\"\" --------\n",
    "#                           --------\n",
    "#                           --------  \"\"\"\n",
    "                              \n",
    "## example:- # my name is amar\n",
    "\"\"\" my name is amar\n",
    "         my father name is sanjay\n",
    "         my brother name is nayan\n",
    "         my mother name is sapna\"\"\"\n"
   ]
  },
  {
   "cell_type": "code",
   "execution_count": 16,
   "id": "6592bb44-6b5b-463c-9e80-049c0b62ee75",
   "metadata": {},
   "outputs": [],
   "source": [
    "#Q2. What are variables in Python? How do you declare and assign values to variables?\n",
    "\n",
    "#ans: variables are used to store and refer to data values. They are essentially containers that hold a value, which can be of various types such as numbers, strings, lists, or other objects. Variables allow you to assign a name to a value, making it easier to work with and manipulate data in your programs.\n",
    "\n",
    "#declaration of variable \n",
    "#variable_name = value\n",
    " \n",
    "# example :- \n",
    "a = 10\n",
    "amar = 2332\n",
    "x= (1,2,3)\n",
    "y={1,2,3}\n",
    "z=[ 1.2, 12, 'amar']\n",
    "dict = {'name': 'amar', '123': True}"
   ]
  },
  {
   "cell_type": "markdown",
   "id": "4703beef-c688-4830-b590-685a5427b098",
   "metadata": {},
   "source": [
    "Q3. How do you convert one data type to another in Python?\n",
    "\n",
    "ans :- we can easily convert one data type to another data type  by using assignment operater(=)\n",
    "      for example :- a= 10\n",
    "                    type(a) \n",
    "                    int \n",
    "                    "
   ]
  },
  {
   "cell_type": "code",
   "execution_count": 16,
   "id": "9e5836b2-af3f-40d6-abea-b0f2c6be52b1",
   "metadata": {},
   "outputs": [],
   "source": [
    "age= \"1\"\n",
    "age=int(age)"
   ]
  },
  {
   "cell_type": "code",
   "execution_count": 17,
   "id": "f8d7bbdc-2eab-474d-8e36-d33309fa951c",
   "metadata": {},
   "outputs": [
    {
     "data": {
      "text/plain": [
       "1"
      ]
     },
     "execution_count": 17,
     "metadata": {},
     "output_type": "execute_result"
    }
   ],
   "source": [
    "age"
   ]
  },
  {
   "cell_type": "code",
   "execution_count": 18,
   "id": "919d5a00-6ed3-4fd4-a9b5-131e7beff67d",
   "metadata": {},
   "outputs": [
    {
     "data": {
      "text/plain": [
       "int"
      ]
     },
     "execution_count": 18,
     "metadata": {},
     "output_type": "execute_result"
    }
   ],
   "source": [
    "type(age)"
   ]
  },
  {
   "cell_type": "code",
   "execution_count": 17,
   "id": "b762e19f-e68b-4244-a12f-c6deca83503a",
   "metadata": {},
   "outputs": [
    {
     "name": "stdin",
     "output_type": "stream",
     "text": [
      " 12\n"
     ]
    },
    {
     "data": {
      "text/plain": [
       "'12'"
      ]
     },
     "execution_count": 17,
     "metadata": {},
     "output_type": "execute_result"
    }
   ],
   "source": [
    "input()"
   ]
  },
  {
   "cell_type": "code",
   "execution_count": 18,
   "id": "2f6e231e-059b-4ac6-bd19-2438880ee22a",
   "metadata": {},
   "outputs": [
    {
     "name": "stdin",
     "output_type": "stream",
     "text": [
      " 1\n"
     ]
    },
    {
     "data": {
      "text/plain": [
       "1"
      ]
     },
     "execution_count": 18,
     "metadata": {},
     "output_type": "execute_result"
    }
   ],
   "source": [
    "int(input())"
   ]
  },
  {
   "cell_type": "markdown",
   "id": "c1e56ad0-718e-4cca-8b78-38fd5f5c0d06",
   "metadata": {},
   "source": [
    "Q4. How do you write and execute a Python script from the command line?"
   ]
  },
  {
   "cell_type": "markdown",
   "id": "ab1db979-f95b-4a5f-8710-887df906aa20",
   "metadata": {},
   "source": [
    "Open a text editor of your choice (e.g., Notepad, Sublime Text, Visual Studio Code) and create a new file.\n",
    "Write your Python code in the text editor. For example, let's create a simple \"hello world\" script:\n",
    "\n",
    "print(\"Hello, world!\")\n",
    "\n",
    "Save the file with a .py extension, such as hello.py. Make sure you remember the directory where you saved the file.\n",
    "\n",
    "Open the command line or terminal on your operating system.\n",
    "\n",
    "Navigate to the directory where you saved the Python script using the cd command. For example, if the file is saved in the Documents directory, you would use\n",
    "\n",
    "cd Documents\n"
   ]
  },
  {
   "cell_type": "markdown",
   "id": "ee7bcbe5-07f3-4f48-bdb7-69168467e9fc",
   "metadata": {},
   "source": [
    "Q5. Given a list my_list = [1, 2, 3, 4, 5], write the code to slice the list and obtain the sub-list [2, 3]."
   ]
  },
  {
   "cell_type": "code",
   "execution_count": 1,
   "id": "f9f577a7-f457-4dfd-ab25-5d6d54134cc2",
   "metadata": {},
   "outputs": [],
   "source": [
    "my_list = [1, 2, 3, 4, 5]"
   ]
  },
  {
   "cell_type": "code",
   "execution_count": 4,
   "id": "f5f209bb-dcd2-4666-b6a7-9d573df087f7",
   "metadata": {},
   "outputs": [],
   "source": [
    "sub_list=my_list[1:3]"
   ]
  },
  {
   "cell_type": "code",
   "execution_count": 5,
   "id": "51bdee7f-933c-4a54-b4ae-1eedb179b6b2",
   "metadata": {},
   "outputs": [
    {
     "data": {
      "text/plain": [
       "[2, 3]"
      ]
     },
     "execution_count": 5,
     "metadata": {},
     "output_type": "execute_result"
    }
   ],
   "source": [
    "sub_list"
   ]
  },
  {
   "cell_type": "markdown",
   "id": "f35f439a-450f-4bf1-8102-0a5245556e63",
   "metadata": {},
   "source": [
    "Q6. What is a complex number in mathematics, and how is it represented in Python?"
   ]
  },
  {
   "cell_type": "markdown",
   "id": "0629028d-5eec-4c00-a5e2-770f7c8b9e79",
   "metadata": {},
   "source": [
    "Complex numbers are the numbers that are expressed in the form of a+ib where,\n",
    "a,b are real numbers and 'i' is an imaginary number called “iota”. The value of i = (√-1)."
   ]
  },
  {
   "cell_type": "code",
   "execution_count": 7,
   "id": "d5db1f8e-880a-4977-a59b-d7c22acde838",
   "metadata": {},
   "outputs": [],
   "source": [
    "a=4+5j # representation of complex number in python"
   ]
  },
  {
   "cell_type": "code",
   "execution_count": 8,
   "id": "d16d1d63-c83c-487f-8cce-0c96209b2e43",
   "metadata": {},
   "outputs": [
    {
     "data": {
      "text/plain": [
       "complex"
      ]
     },
     "execution_count": 8,
     "metadata": {},
     "output_type": "execute_result"
    }
   ],
   "source": [
    "type(a)"
   ]
  },
  {
   "cell_type": "code",
   "execution_count": 9,
   "id": "76662bcb-9d8f-4f0d-819e-5c2d41910f61",
   "metadata": {},
   "outputs": [
    {
     "data": {
      "text/plain": [
       "4.0"
      ]
     },
     "execution_count": 9,
     "metadata": {},
     "output_type": "execute_result"
    }
   ],
   "source": [
    "a.real"
   ]
  },
  {
   "cell_type": "code",
   "execution_count": 10,
   "id": "034ac650-481b-4439-b802-3ee61f9fef32",
   "metadata": {},
   "outputs": [
    {
     "data": {
      "text/plain": [
       "5.0"
      ]
     },
     "execution_count": 10,
     "metadata": {},
     "output_type": "execute_result"
    }
   ],
   "source": [
    "a.imag"
   ]
  },
  {
   "cell_type": "markdown",
   "id": "10edcd15-81c6-4b42-a12f-9e0111179d38",
   "metadata": {},
   "source": [
    "Q7. What is the correct way to declare a variable named age and assign the value 25 to it?"
   ]
  },
  {
   "cell_type": "code",
   "execution_count": 11,
   "id": "9f3ebab8-a364-4645-ae82-c119a48449c3",
   "metadata": {},
   "outputs": [],
   "source": [
    "# varible always start from leter or word just like given below example\n",
    "age=25"
   ]
  },
  {
   "cell_type": "code",
   "execution_count": 12,
   "id": "ab9af27c-6f06-42b4-9d6c-5803b6fc23ab",
   "metadata": {},
   "outputs": [],
   "source": [
    "_age=25"
   ]
  },
  {
   "cell_type": "code",
   "execution_count": 13,
   "id": "440ee607-648a-4607-baf7-9344351435d2",
   "metadata": {},
   "outputs": [
    {
     "data": {
      "text/plain": [
       "int"
      ]
     },
     "execution_count": 13,
     "metadata": {},
     "output_type": "execute_result"
    }
   ],
   "source": [
    "type(age)"
   ]
  },
  {
   "cell_type": "markdown",
   "id": "7307a6f2-8b38-42c9-913d-e757ec6ab318",
   "metadata": {},
   "source": [
    "Q8. Declare a variable named price and assign the value 9.99 to it. What data type does this variable\n",
    "belong to?"
   ]
  },
  {
   "cell_type": "code",
   "execution_count": 19,
   "id": "c889c5f1-6459-4e0a-81bc-adc830ea12dd",
   "metadata": {},
   "outputs": [],
   "source": [
    "price=99.9 # data type of price is float"
   ]
  },
  {
   "cell_type": "code",
   "execution_count": 20,
   "id": "1f7c253b-67a4-46aa-8a55-4a497baeef1a",
   "metadata": {},
   "outputs": [
    {
     "data": {
      "text/plain": [
       "float"
      ]
     },
     "execution_count": 20,
     "metadata": {},
     "output_type": "execute_result"
    }
   ],
   "source": [
    "type(price)"
   ]
  },
  {
   "cell_type": "markdown",
   "id": "6ba36a53-e499-4afb-a09a-abe964f869a1",
   "metadata": {},
   "source": [
    "Q9. Create a variable named name and assign your full name to it as a string. How would you print the\n",
    "value of this variable?"
   ]
  },
  {
   "cell_type": "code",
   "execution_count": 21,
   "id": "122b46ac-9c5b-449e-b729-e2a37f87a75a",
   "metadata": {},
   "outputs": [],
   "source": [
    "name= \" amar sanjay mandale\""
   ]
  },
  {
   "cell_type": "code",
   "execution_count": 22,
   "id": "95eff66e-f01b-4f21-a1d0-cdd5360e531a",
   "metadata": {},
   "outputs": [
    {
     "data": {
      "text/plain": [
       "' amar sanjay mandale'"
      ]
     },
     "execution_count": 22,
     "metadata": {},
     "output_type": "execute_result"
    }
   ],
   "source": [
    "name"
   ]
  },
  {
   "cell_type": "markdown",
   "id": "3d3a7a78-1f27-460e-9c37-2a709327edbd",
   "metadata": {},
   "source": [
    "Q10. Given the string \"Hello, World!\", extract the substring \"World\"."
   ]
  },
  {
   "cell_type": "code",
   "execution_count": 25,
   "id": "2f0072f7-3380-4ea1-9bcf-58897a273865",
   "metadata": {},
   "outputs": [],
   "source": [
    "string=\"Hello, World!\""
   ]
  },
  {
   "cell_type": "code",
   "execution_count": 29,
   "id": "498450a5-da3c-4290-b475-cc27af7ab39e",
   "metadata": {},
   "outputs": [],
   "source": [
    "sub_tring=string[7:12]"
   ]
  },
  {
   "cell_type": "code",
   "execution_count": 30,
   "id": "abc5282f-2d0d-4c85-bfc6-30c50b4a103f",
   "metadata": {},
   "outputs": [
    {
     "data": {
      "text/plain": [
       "'World'"
      ]
     },
     "execution_count": 30,
     "metadata": {},
     "output_type": "execute_result"
    }
   ],
   "source": [
    "sub_tring"
   ]
  },
  {
   "cell_type": "markdown",
   "id": "2bf68036-f52f-4fec-a1d5-11530240be3b",
   "metadata": {},
   "source": [
    "Q11. Create a variable named \"is_student\" and assign it a boolean value indicating whether you are\n",
    "currently a student or not."
   ]
  },
  {
   "cell_type": "code",
   "execution_count": 33,
   "id": "384ce031-cba9-4447-8bf4-d45d2d17cbd5",
   "metadata": {},
   "outputs": [],
   "source": [
    "is_student=True"
   ]
  },
  {
   "cell_type": "code",
   "execution_count": 32,
   "id": "9662374d-b5fd-4cab-bde9-34e7204b0253",
   "metadata": {},
   "outputs": [
    {
     "data": {
      "text/plain": [
       "bool"
      ]
     },
     "execution_count": 32,
     "metadata": {},
     "output_type": "execute_result"
    }
   ],
   "source": [
    "type(is_student)"
   ]
  },
  {
   "cell_type": "code",
   "execution_count": 34,
   "id": "e3874aa7-0782-48b2-ae8b-1108b1923a5f",
   "metadata": {},
   "outputs": [
    {
     "data": {
      "text/plain": [
       "True"
      ]
     },
     "execution_count": 34,
     "metadata": {},
     "output_type": "execute_result"
    }
   ],
   "source": [
    "is_student"
   ]
  },
  {
   "cell_type": "code",
   "execution_count": 35,
   "id": "e962d38c-6886-4283-95c8-be2ed41bfef7",
   "metadata": {},
   "outputs": [],
   "source": [
    "is_student=False"
   ]
  },
  {
   "cell_type": "code",
   "execution_count": 36,
   "id": "45487248-305a-4d57-9016-ba0c768eb12c",
   "metadata": {},
   "outputs": [
    {
     "data": {
      "text/plain": [
       "False"
      ]
     },
     "execution_count": 36,
     "metadata": {},
     "output_type": "execute_result"
    }
   ],
   "source": [
    "is_student\n"
   ]
  },
  {
   "cell_type": "code",
   "execution_count": 37,
   "id": "dcf1dd08-00d1-47bd-b2f1-dc0384ee2cfb",
   "metadata": {},
   "outputs": [
    {
     "data": {
      "text/plain": [
       "True"
      ]
     },
     "execution_count": 37,
     "metadata": {},
     "output_type": "execute_result"
    }
   ],
   "source": [
    "True\n"
   ]
  },
  {
   "cell_type": "code",
   "execution_count": 40,
   "id": "43f15d37-9f66-4406-b118-b395b68c1ab4",
   "metadata": {},
   "outputs": [
    {
     "data": {
      "text/plain": [
       "range(0, 0)"
      ]
     },
     "execution_count": 40,
     "metadata": {},
     "output_type": "execute_result"
    }
   ],
   "source": [
    "range(False)"
   ]
  },
  {
   "cell_type": "code",
   "execution_count": null,
   "id": "7b07ea8b-a66e-414b-b3b3-b7a82b7e737e",
   "metadata": {},
   "outputs": [],
   "source": []
  },
  {
   "cell_type": "code",
   "execution_count": null,
   "id": "0ab341bd-20cf-4dd0-b27e-67580ec124d5",
   "metadata": {},
   "outputs": [],
   "source": []
  }
 ],
 "metadata": {
  "kernelspec": {
   "display_name": "Python 3 (ipykernel)",
   "language": "python",
   "name": "python3"
  },
  "language_info": {
   "codemirror_mode": {
    "name": "ipython",
    "version": 3
   },
   "file_extension": ".py",
   "mimetype": "text/x-python",
   "name": "python",
   "nbconvert_exporter": "python",
   "pygments_lexer": "ipython3",
   "version": "3.10.8"
  }
 },
 "nbformat": 4,
 "nbformat_minor": 5
}
